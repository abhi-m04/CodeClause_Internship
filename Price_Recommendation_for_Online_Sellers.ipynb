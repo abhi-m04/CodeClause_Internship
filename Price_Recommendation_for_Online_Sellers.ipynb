{
  "nbformat": 4,
  "nbformat_minor": 0,
  "metadata": {
    "colab": {
      "provenance": [],
      "authorship_tag": "ABX9TyNHzzu+ljmhAjpS02TNj7dT",
      "include_colab_link": true
    },
    "kernelspec": {
      "name": "python3",
      "display_name": "Python 3"
    },
    "language_info": {
      "name": "python"
    }
  },
  "cells": [
    {
      "cell_type": "markdown",
      "metadata": {
        "id": "view-in-github",
        "colab_type": "text"
      },
      "source": [
        "<a href=\"https://colab.research.google.com/github/abhi-m04/CodeClause_Internship/blob/main/Price_Recommendation_for_Online_Sellers.ipynb\" target=\"_parent\"><img src=\"https://colab.research.google.com/assets/colab-badge.svg\" alt=\"Open In Colab\"/></a>"
      ]
    },
    {
      "cell_type": "markdown",
      "source": [
        "#           Price Recommendation for Online Sellers"
      ],
      "metadata": {
        "id": "NLBxLXoWZRW2"
      }
    },
    {
      "cell_type": "code",
      "execution_count": null,
      "metadata": {
        "id": "LPm2pwaRWYBU"
      },
      "outputs": [],
      "source": [
        "import gc\n",
        "import time\n",
        "import numpy as np\n",
        "import pandas as pd\n",
        "import matplotlib.pyplot as plt\n",
        "import seaborn as sns\n",
        "from scipy.sparse import csr_matrix, hstack\n",
        "from sklearn.feature_extraction.text import CountVectorizer, TfidfVectorizer\n",
        "from sklearn.preprocessing import LabelBinarizer\n",
        "from sklearn.model_selection import train_test_split, cross_val_score\n",
        "from sklearn.metrics import mean_squared_error\n",
        "import lightgbm as lgb"
      ]
    },
    {
      "cell_type": "code",
      "source": [
        "data=pd.read_csv('train.tsv',sep='\\t')\n",
        "data.head()"
      ],
      "metadata": {
        "colab": {
          "base_uri": "https://localhost:8080/",
          "height": 320
        },
        "id": "78EBrAuWW2Cx",
        "outputId": "01c36c6e-32d2-4129-e825-982b7de4799e"
      },
      "execution_count": null,
      "outputs": [
        {
          "output_type": "execute_result",
          "data": {
            "text/plain": [
              "   train_id                                 name  item_condition_id  \\\n",
              "0         0  MLB Cincinnati Reds T Shirt Size XL                  3   \n",
              "1         1     Razer BlackWidow Chroma Keyboard                  3   \n",
              "2         2                       AVA-VIV Blouse                  1   \n",
              "3         3                Leather Horse Statues                  1   \n",
              "4         4                 24K GOLD plated rose                  1   \n",
              "\n",
              "                                       category_name brand_name  price  \\\n",
              "0                                  Men/Tops/T-shirts        NaN   10.0   \n",
              "1  Electronics/Computers & Tablets/Components & P...      Razer   52.0   \n",
              "2                        Women/Tops & Blouses/Blouse     Target   10.0   \n",
              "3                 Home/Home Décor/Home Décor Accents        NaN   35.0   \n",
              "4                            Women/Jewelry/Necklaces        NaN   44.0   \n",
              "\n",
              "   shipping                                   item_description  \n",
              "0         1                                 No description yet  \n",
              "1         0  This keyboard is in great condition and works ...  \n",
              "2         1  Adorable top with a hint of lace and a key hol...  \n",
              "3         1  New with tags. Leather horses. Retail for [rm]...  \n",
              "4         0          Complete with certificate of authenticity  "
            ],
            "text/html": [
              "\n",
              "  <div id=\"df-a4f2f813-3f8d-4141-ae7b-ecc60859b438\">\n",
              "    <div class=\"colab-df-container\">\n",
              "      <div>\n",
              "<style scoped>\n",
              "    .dataframe tbody tr th:only-of-type {\n",
              "        vertical-align: middle;\n",
              "    }\n",
              "\n",
              "    .dataframe tbody tr th {\n",
              "        vertical-align: top;\n",
              "    }\n",
              "\n",
              "    .dataframe thead th {\n",
              "        text-align: right;\n",
              "    }\n",
              "</style>\n",
              "<table border=\"1\" class=\"dataframe\">\n",
              "  <thead>\n",
              "    <tr style=\"text-align: right;\">\n",
              "      <th></th>\n",
              "      <th>train_id</th>\n",
              "      <th>name</th>\n",
              "      <th>item_condition_id</th>\n",
              "      <th>category_name</th>\n",
              "      <th>brand_name</th>\n",
              "      <th>price</th>\n",
              "      <th>shipping</th>\n",
              "      <th>item_description</th>\n",
              "    </tr>\n",
              "  </thead>\n",
              "  <tbody>\n",
              "    <tr>\n",
              "      <th>0</th>\n",
              "      <td>0</td>\n",
              "      <td>MLB Cincinnati Reds T Shirt Size XL</td>\n",
              "      <td>3</td>\n",
              "      <td>Men/Tops/T-shirts</td>\n",
              "      <td>NaN</td>\n",
              "      <td>10.0</td>\n",
              "      <td>1</td>\n",
              "      <td>No description yet</td>\n",
              "    </tr>\n",
              "    <tr>\n",
              "      <th>1</th>\n",
              "      <td>1</td>\n",
              "      <td>Razer BlackWidow Chroma Keyboard</td>\n",
              "      <td>3</td>\n",
              "      <td>Electronics/Computers &amp; Tablets/Components &amp; P...</td>\n",
              "      <td>Razer</td>\n",
              "      <td>52.0</td>\n",
              "      <td>0</td>\n",
              "      <td>This keyboard is in great condition and works ...</td>\n",
              "    </tr>\n",
              "    <tr>\n",
              "      <th>2</th>\n",
              "      <td>2</td>\n",
              "      <td>AVA-VIV Blouse</td>\n",
              "      <td>1</td>\n",
              "      <td>Women/Tops &amp; Blouses/Blouse</td>\n",
              "      <td>Target</td>\n",
              "      <td>10.0</td>\n",
              "      <td>1</td>\n",
              "      <td>Adorable top with a hint of lace and a key hol...</td>\n",
              "    </tr>\n",
              "    <tr>\n",
              "      <th>3</th>\n",
              "      <td>3</td>\n",
              "      <td>Leather Horse Statues</td>\n",
              "      <td>1</td>\n",
              "      <td>Home/Home Décor/Home Décor Accents</td>\n",
              "      <td>NaN</td>\n",
              "      <td>35.0</td>\n",
              "      <td>1</td>\n",
              "      <td>New with tags. Leather horses. Retail for [rm]...</td>\n",
              "    </tr>\n",
              "    <tr>\n",
              "      <th>4</th>\n",
              "      <td>4</td>\n",
              "      <td>24K GOLD plated rose</td>\n",
              "      <td>1</td>\n",
              "      <td>Women/Jewelry/Necklaces</td>\n",
              "      <td>NaN</td>\n",
              "      <td>44.0</td>\n",
              "      <td>0</td>\n",
              "      <td>Complete with certificate of authenticity</td>\n",
              "    </tr>\n",
              "  </tbody>\n",
              "</table>\n",
              "</div>\n",
              "      <button class=\"colab-df-convert\" onclick=\"convertToInteractive('df-a4f2f813-3f8d-4141-ae7b-ecc60859b438')\"\n",
              "              title=\"Convert this dataframe to an interactive table.\"\n",
              "              style=\"display:none;\">\n",
              "        \n",
              "  <svg xmlns=\"http://www.w3.org/2000/svg\" height=\"24px\"viewBox=\"0 0 24 24\"\n",
              "       width=\"24px\">\n",
              "    <path d=\"M0 0h24v24H0V0z\" fill=\"none\"/>\n",
              "    <path d=\"M18.56 5.44l.94 2.06.94-2.06 2.06-.94-2.06-.94-.94-2.06-.94 2.06-2.06.94zm-11 1L8.5 8.5l.94-2.06 2.06-.94-2.06-.94L8.5 2.5l-.94 2.06-2.06.94zm10 10l.94 2.06.94-2.06 2.06-.94-2.06-.94-.94-2.06-.94 2.06-2.06.94z\"/><path d=\"M17.41 7.96l-1.37-1.37c-.4-.4-.92-.59-1.43-.59-.52 0-1.04.2-1.43.59L10.3 9.45l-7.72 7.72c-.78.78-.78 2.05 0 2.83L4 21.41c.39.39.9.59 1.41.59.51 0 1.02-.2 1.41-.59l7.78-7.78 2.81-2.81c.8-.78.8-2.07 0-2.86zM5.41 20L4 18.59l7.72-7.72 1.47 1.35L5.41 20z\"/>\n",
              "  </svg>\n",
              "      </button>\n",
              "      \n",
              "  <style>\n",
              "    .colab-df-container {\n",
              "      display:flex;\n",
              "      flex-wrap:wrap;\n",
              "      gap: 12px;\n",
              "    }\n",
              "\n",
              "    .colab-df-convert {\n",
              "      background-color: #E8F0FE;\n",
              "      border: none;\n",
              "      border-radius: 50%;\n",
              "      cursor: pointer;\n",
              "      display: none;\n",
              "      fill: #1967D2;\n",
              "      height: 32px;\n",
              "      padding: 0 0 0 0;\n",
              "      width: 32px;\n",
              "    }\n",
              "\n",
              "    .colab-df-convert:hover {\n",
              "      background-color: #E2EBFA;\n",
              "      box-shadow: 0px 1px 2px rgba(60, 64, 67, 0.3), 0px 1px 3px 1px rgba(60, 64, 67, 0.15);\n",
              "      fill: #174EA6;\n",
              "    }\n",
              "\n",
              "    [theme=dark] .colab-df-convert {\n",
              "      background-color: #3B4455;\n",
              "      fill: #D2E3FC;\n",
              "    }\n",
              "\n",
              "    [theme=dark] .colab-df-convert:hover {\n",
              "      background-color: #434B5C;\n",
              "      box-shadow: 0px 1px 3px 1px rgba(0, 0, 0, 0.15);\n",
              "      filter: drop-shadow(0px 1px 2px rgba(0, 0, 0, 0.3));\n",
              "      fill: #FFFFFF;\n",
              "    }\n",
              "  </style>\n",
              "\n",
              "      <script>\n",
              "        const buttonEl =\n",
              "          document.querySelector('#df-a4f2f813-3f8d-4141-ae7b-ecc60859b438 button.colab-df-convert');\n",
              "        buttonEl.style.display =\n",
              "          google.colab.kernel.accessAllowed ? 'block' : 'none';\n",
              "\n",
              "        async function convertToInteractive(key) {\n",
              "          const element = document.querySelector('#df-a4f2f813-3f8d-4141-ae7b-ecc60859b438');\n",
              "          const dataTable =\n",
              "            await google.colab.kernel.invokeFunction('convertToInteractive',\n",
              "                                                     [key], {});\n",
              "          if (!dataTable) return;\n",
              "\n",
              "          const docLinkHtml = 'Like what you see? Visit the ' +\n",
              "            '<a target=\"_blank\" href=https://colab.research.google.com/notebooks/data_table.ipynb>data table notebook</a>'\n",
              "            + ' to learn more about interactive tables.';\n",
              "          element.innerHTML = '';\n",
              "          dataTable['output_type'] = 'display_data';\n",
              "          await google.colab.output.renderOutput(dataTable, element);\n",
              "          const docLink = document.createElement('div');\n",
              "          docLink.innerHTML = docLinkHtml;\n",
              "          element.appendChild(docLink);\n",
              "        }\n",
              "      </script>\n",
              "    </div>\n",
              "  </div>\n",
              "  "
            ]
          },
          "metadata": {},
          "execution_count": 3
        }
      ]
    },
    {
      "cell_type": "code",
      "source": [
        "msk = np.random.rand(len(data)) < 0.8\n",
        "train = data[msk]\n",
        "test = data[~msk]\n",
        "train.shape, test.shape"
      ],
      "metadata": {
        "colab": {
          "base_uri": "https://localhost:8080/"
        },
        "id": "8IsRsSWoW1_S",
        "outputId": "25fd9224-da45-4a70-dd30-8077327b3ab7"
      },
      "execution_count": null,
      "outputs": [
        {
          "output_type": "execute_result",
          "data": {
            "text/plain": [
              "((29516, 8), (7541, 8))"
            ]
          },
          "metadata": {},
          "execution_count": 4
        }
      ]
    },
    {
      "cell_type": "code",
      "source": [
        "plt.subplot(1, 2, 1)\n",
        "(train['price']).plot.hist(bins=50, figsize=(12, 6), edgecolor = 'white', range = [0, 250])\n",
        "plt.xlabel('price', fontsize=12)\n",
        "plt.title('Price Distribution', fontsize=12)\n",
        "plt.subplot(1, 2, 2)\n",
        "np.log(train['price']+1).plot.hist(bins=50, figsize=(12,6), edgecolor='white')\n",
        "plt.xlabel('log(price+1)', fontsize=12)\n",
        "plt.title('Price Distribution', fontsize=12)"
      ],
      "metadata": {
        "colab": {
          "base_uri": "https://localhost:8080/",
          "height": 585
        },
        "id": "oQhs-gc6W17q",
        "outputId": "99566028-9d23-4ec5-f933-1a342283fda9"
      },
      "execution_count": null,
      "outputs": [
        {
          "output_type": "execute_result",
          "data": {
            "text/plain": [
              "Text(0.5, 1.0, 'Price Distribution')"
            ]
          },
          "metadata": {},
          "execution_count": 5
        },
        {
          "output_type": "display_data",
          "data": {
            "text/plain": [
              "<Figure size 1200x600 with 2 Axes>"
            ],
            "image/png": "[encoded data removed]"
          },
          "metadata": {}
        }
      ]
    },
    {
      "cell_type": "code",
      "source": [
        "train['shipping'].value_counts() / len(train)"
      ],
      "metadata": {
        "colab": {
          "base_uri": "https://localhost:8080/"
        },
        "id": "PACKAt2NW14R",
        "outputId": "247a0e39-7087-419c-a7a0-1f5d1ae93d9c"
      },
      "execution_count": null,
      "outputs": [
        {
          "output_type": "execute_result",
          "data": {
            "text/plain": [
              "0    0.551023\n",
              "1    0.448977\n",
              "Name: shipping, dtype: float64"
            ]
          },
          "metadata": {},
          "execution_count": 6
        }
      ]
    },
    {
      "cell_type": "code",
      "source": [
        "shipping_fee_buyer = train.loc[data['shipping'] == 0, 'price']\n",
        "shipping_fee_seller = train.loc[data['shipping'] == 1, 'price']\n",
        "print('The mean price is {}'.format(round(shipping_fee_seller.mean(), 2)), 'when a seller pays shipping');\n",
        "print('The mean price is {}'.format(round(shipping_fee_buyer.mean(), 2)), 'when a buyer pays shipping')"
      ],
      "metadata": {
        "colab": {
          "base_uri": "https://localhost:8080/"
        },
        "id": "5AuUTmHPW103",
        "outputId": "29279c02-8b1a-4fe3-ab5a-8e0cda98b7f0"
      },
      "execution_count": null,
      "outputs": [
        {
          "output_type": "stream",
          "name": "stdout",
          "text": [
            "The mean price is 22.45 when a seller pays shipping\n",
            "The mean price is 30.53 when a buyer pays shipping\n"
          ]
        }
      ]
    },
    {
      "cell_type": "code",
      "source": [
        "sns.boxplot(x = 'item_condition_id', y = np.log(train['price']+1), data = train, palette = sns.color_palette('RdBu',5))"
      ],
      "metadata": {
        "colab": {
          "base_uri": "https://localhost:8080/",
          "height": 467
        },
        "id": "ETGLh_huW1xe",
        "outputId": "e1ce092f-a9e2-4f22-9ebc-0ae187dd0ce9"
      },
      "execution_count": null,
      "outputs": [
        {
          "output_type": "execute_result",
          "data": {
            "text/plain": [
              "<Axes: xlabel='item_condition_id', ylabel='price'>"
            ]
          },
          "metadata": {},
          "execution_count": 10
        },
        {
          "output_type": "display_data",
          "data": {
            "text/plain": [
              "<Figure size 640x480 with 1 Axes>"
            ],
            "image/png": "[encoded data removed]"
          },
          "metadata": {}
        }
      ]
    },
    {
      "cell_type": "markdown",
      "source": [
        "# LightGBM"
      ],
      "metadata": {
        "id": "U-F--emSZjIh"
      }
    },
    {
      "cell_type": "markdown",
      "source": [
        "Helper function for LightGBM:"
      ],
      "metadata": {
        "id": "9mEEdGzZZzDE"
      }
    },
    {
      "cell_type": "code",
      "source": [
        "NUM_BRANDS = 4000\n",
        "NUM_CATEGORIES = 1000\n",
        "NAME_MIN_DF = 10\n",
        "MAX_FEATURES_ITEM_DESCRIPTION = 50000\n",
        "def handle_missing_inplace(dataset):\n",
        "    dataset['category_name'].fillna(value='missing', inplace=True)\n",
        "    dataset['brand_name'].fillna(value='missing', inplace=True)\n",
        "    dataset['item_description'].replace('No description yet,''missing', inplace=True)\n",
        "    dataset['item_description'].fillna(value='missing', inplace=True)\n",
        "def cutting(dataset):\n",
        "    pop_brand = dataset['brand_name'].value_counts().loc[lambda x: x.index != 'missing'].index[:NUM_BRANDS]\n",
        "    dataset.loc[~dataset['brand_name'].isin(pop_brand), 'brand_name'] = 'missing'\n",
        "    pop_category = dataset['category_name'].value_counts().loc[lambda x: x.index != 'missing'].index[:NUM_CATEGORIES]\n",
        "def to_categorical(dataset):\n",
        "    dataset['category_name'] = dataset['category_name'].astype('category')\n",
        "    dataset['brand_name'] = dataset['brand_name'].astype('category')\n",
        "    dataset['item_condition_id'] = dataset['item_condition_id'].astype('category')"
      ],
      "metadata": {
        "id": "f5vNwAr_W1uV"
      },
      "execution_count": null,
      "outputs": []
    },
    {
      "cell_type": "code",
      "source": [
        "data2 = pd.read_csv('train.tsv', sep = '\\t')\n",
        "msk = np.random.rand(len(data2)) < 0.8\n",
        "train = data2[msk]\n",
        "test = data2[~msk]\n",
        "test_new = test.drop('price', axis=1)\n",
        "y_test = np.log1p(test[\"price\"])\n",
        "train = train[train.price != 0].reset_index(drop=True)"
      ],
      "metadata": {
        "id": "bSmWoX7-W1qy"
      },
      "execution_count": null,
      "outputs": []
    },
    {
      "cell_type": "code",
      "source": [
        "nrow_train = train.shape[0]\n",
        "y = np.log1p(train[\"price\"])\n",
        "merge: pd.DataFrame = pd.concat([train, test_new])"
      ],
      "metadata": {
        "id": "wwbzxa35W1nT"
      },
      "execution_count": null,
      "outputs": []
    },
    {
      "cell_type": "code",
      "source": [
        "handle_missing_inplace(merge)\n",
        "cutting(merge)\n",
        "to_categorical(merge)"
      ],
      "metadata": {
        "id": "js_QGbz7Xt_k"
      },
      "execution_count": null,
      "outputs": []
    },
    {
      "cell_type": "code",
      "source": [
        "cv = CountVectorizer(min_df=NAME_MIN_DF)\n",
        "X_name = cv.fit_transform(merge['name'])\n",
        "cv = CountVectorizer()\n",
        "X_category = cv.fit_transform(merge['category_name'])"
      ],
      "metadata": {
        "id": "p2ZAjEb6Xt8J"
      },
      "execution_count": null,
      "outputs": []
    },
    {
      "cell_type": "code",
      "source": [
        "tv = TfidfVectorizer(max_features=MAX_FEATURES_ITEM_DESCRIPTION, ngram_range=(1, 3), stop_words='english')\n",
        "X_description = tv.fit_transform(merge['item_description'])"
      ],
      "metadata": {
        "id": "zH6KV8kdXt4q"
      },
      "execution_count": null,
      "outputs": []
    },
    {
      "cell_type": "code",
      "source": [
        "lb = LabelBinarizer(sparse_output=True)\n",
        "X_brand = lb.fit_transform(merge['brand_name'])"
      ],
      "metadata": {
        "id": "jFdxNw1MXt01"
      },
      "execution_count": null,
      "outputs": []
    },
    {
      "cell_type": "code",
      "source": [
        "X_dummies = csr_matrix(pd.get_dummies(merge[['item_condition_id', 'shipping']], sparse=True).values)"
      ],
      "metadata": {
        "id": "XoeqQW-PYGZj"
      },
      "execution_count": null,
      "outputs": []
    },
    {
      "cell_type": "code",
      "source": [
        "sparse_merge = hstack((X_dummies, X_description, X_brand, X_category, X_name)).tocsr()"
      ],
      "metadata": {
        "id": "pZV48x4xYGLq"
      },
      "execution_count": null,
      "outputs": []
    },
    {
      "cell_type": "code",
      "source": [
        "mask = np.array(np.clip(sparse_merge.getnnz(axis=0) - 1, 0, 1), dtype=bool)\n",
        "sparse_merge = sparse_merge[:, mask]"
      ],
      "metadata": {
        "id": "EJLXHP41YGDC"
      },
      "execution_count": null,
      "outputs": []
    },
    {
      "cell_type": "code",
      "source": [
        "X = sparse_merge[:nrow_train]\n",
        "X_test = sparse_merge[nrow_train:]"
      ],
      "metadata": {
        "id": "AP41GtKjYF3G"
      },
      "execution_count": null,
      "outputs": []
    },
    {
      "cell_type": "code",
      "source": [
        "train_X = lgb.Dataset(X, label=y)"
      ],
      "metadata": {
        "id": "8DDN5Y90YFph"
      },
      "execution_count": null,
      "outputs": []
    },
    {
      "cell_type": "code",
      "source": [
        "Parameters = {\n",
        "        'learning_rate': 0.75,\n",
        "        'application': 'regression',\n",
        "        'max_depth': 3,\n",
        "        'num_leaves': 100,\n",
        "        'verbosity': -1,\n",
        "        'metric': 'RMSE',\n",
        "    }"
      ],
      "metadata": {
        "id": "BsbYTMk6Yiru"
      },
      "execution_count": null,
      "outputs": []
    },
    {
      "cell_type": "code",
      "source": [
        "GBM = lgb.train(Parameters, train_set=train_X, num_boost_round=3200, verbose_eval=100)"
      ],
      "metadata": {
        "colab": {
          "base_uri": "https://localhost:8080/"
        },
        "id": "iHMRrdZ1eAU7",
        "outputId": "d27d342d-4587-4253-c0b4-b1f6cfe298ea"
      },
      "execution_count": null,
      "outputs": [
        {
          "output_type": "stream",
          "name": "stderr",
          "text": [
            "/usr/local/lib/python3.10/dist-packages/lightgbm/engine.py:239: UserWarning: 'verbose_eval' argument is deprecated and will be removed in a future release of LightGBM. Pass 'log_evaluation()' callback via 'callbacks' argument instead.\n",
            "  _log_warning(\"'verbose_eval' argument is deprecated and will be removed in a future release of LightGBM. \"\n"
          ]
        }
      ]
    },
    {
      "cell_type": "code",
      "source": [
        "y_pred = GBM.predict(X_test, num_iteration=GBM.best_iteration)"
      ],
      "metadata": {
        "id": "aMlyreojYilr"
      },
      "execution_count": null,
      "outputs": []
    },
    {
      "cell_type": "markdown",
      "source": [
        "# Evaluation"
      ],
      "metadata": {
        "id": "hQq-cFUDZ7o7"
      }
    },
    {
      "cell_type": "code",
      "source": [
        "from sklearn.metrics import mean_squared_error\n",
        "print('The rmse of prediction is:', mean_squared_error(y_test, y_pred) ** 0.5)"
      ],
      "metadata": {
        "colab": {
          "base_uri": "https://localhost:8080/"
        },
        "id": "FeNUd8jDYieZ",
        "outputId": "dbf6e3a5-281f-45e2-926b-20e52be2a3d1"
      },
      "execution_count": null,
      "outputs": [
        {
          "output_type": "stream",
          "name": "stdout",
          "text": [
            "The rmse of prediction is: 0.5242779977832207\n"
          ]
        }
      ]
    },
    {
      "cell_type": "code",
      "source": [],
      "metadata": {
        "id": "aMzkyBS7YiWA"
      },
      "execution_count": null,
      "outputs": []
    },
    {
      "cell_type": "code",
      "source": [],
      "metadata": {
        "id": "4RYINYIDYiJJ"
      },
      "execution_count": null,
      "outputs": []
    }
  ]
}